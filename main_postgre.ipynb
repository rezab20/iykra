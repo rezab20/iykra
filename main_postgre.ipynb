{
 "cells": [
  {
   "cell_type": "markdown",
   "metadata": {},
   "source": [
    "# Analisis Database Postgresql Menggunakan Python "
   ]
  },
  {
   "cell_type": "markdown",
   "metadata": {},
   "source": [
    "Sebelum melakukan analisis database postgresql kita harus menginstall library \"pyscopg2\" yang digunakan\n",
    "untuk mengakses database postgresql dengan python"
   ]
  },
  {
   "cell_type": "markdown",
   "metadata": {},
   "source": [
    "pip install psycopg2"
   ]
  },
  {
   "cell_type": "markdown",
   "metadata": {},
   "source": [
    "Dalam kasus ini kita menggunakan database dvdrental dari PostgreSQL. \n",
    "\n",
    "Setelah library berhasil terinstal maka kita terlebih dahulu membuat kode program untuk \n",
    "menghubungkan antara Python dan PostgreSQL. Berikut kode program di bawah: "
   ]
  },
  {
   "cell_type": "code",
   "execution_count": 15,
   "metadata": {},
   "outputs": [
    {
     "name": "stdout",
     "output_type": "stream",
     "text": [
      "PostgreSQL server information\n",
      "{'user': 'postgres', 'channel_binding': 'prefer', 'dbname': 'iykra-sql', 'host': '127.0.0.1', 'port': '5433', 'tty': '', 'options': '', 'sslmode': 'prefer', 'sslcompression': '0', 'ssl_min_protocol_version': 'TLSv1.2', 'gssencmode': 'prefer', 'krbsrvname': 'postgres', 'target_session_attrs': 'any'} \n",
      "\n",
      "You are connected to -  ('PostgreSQL 13.2 on x86_64-apple-darwin, compiled by Apple clang version 11.0.3 (clang-1103.0.32.59), 64-bit',) \n",
      "\n",
      "PostgreSQL connection is closed\n"
     ]
    }
   ],
   "source": [
    "import psycopg2\n",
    "from psycopg2 import Error\n",
    "\n",
    "try:\n",
    "    # Connect to an existing database\n",
    "    connection = psycopg2.connect(user=\"postgres\",\n",
    "                                  password=\"admin\",\n",
    "                                  host=\"127.0.0.1\",\n",
    "                                  port=\"5433\",\n",
    "                                  database=\"iykra-sql\")\n",
    "\n",
    "    # Create a cursor to perform database operations\n",
    "    cursor = connection.cursor()\n",
    "    # Print PostgreSQL details\n",
    "    print(\"PostgreSQL server information\")\n",
    "    print(connection.get_dsn_parameters(), \"\\n\")\n",
    "    # Executing a SQL query\n",
    "    cursor.execute(\"SELECT version();\")\n",
    "    # Fetch result\n",
    "    record = cursor.fetchone()\n",
    "    print(\"You are connected to - \", record, \"\\n\")\n",
    "\n",
    "except (Exception, Error) as error:\n",
    "    print(\"Error while connecting to PostgreSQL\", error)\n",
    "finally:\n",
    "    if (connection):\n",
    "        cursor.close()\n",
    "        connection.close()\n",
    "        print(\"PostgreSQL connection is closed\")"
   ]
  },
  {
   "cell_type": "markdown",
   "metadata": {},
   "source": [
    "Untuk menghubungkan antara Python dan PostgreSQL kita harus mendefinisikan database Postgre yang akan kita gunakan. \n",
    "Libary \"psycopg2\" akan melakukan inisialisasi database tersebut ke dalam program python.\n",
    "\n",
    "Menjalankan query SQL dilakukan menggunakan fungsi try - except "
   ]
  },
  {
   "cell_type": "markdown",
   "metadata": {},
   "source": [
    "# Pertanyaan:"
   ]
  },
  {
   "cell_type": "markdown",
   "metadata": {},
   "source": [
    "Berikut ini adalah pertanyaan untuk analisis database dvdrental menggunakan Python dan PostgreSQL"
   ]
  },
  {
   "cell_type": "markdown",
   "metadata": {},
   "source": [
    "### 1.  I wonder, how many films have a rating of \"R\" and a replacement cost between \\$5 and \\\\$10?"
   ]
  },
  {
   "cell_type": "code",
   "execution_count": 16,
   "metadata": {},
   "outputs": [
    {
     "name": "stdout",
     "output_type": "stream",
     "text": [
      "                    title  replacement_cost rating\n",
      "0    Anaconda Confessions              9.99      R\n",
      "1  Deliverance Mulholland              9.99      R\n",
      "2           Kissing Dolls              9.99      R\n",
      "3          Pluto Oleander              9.99      R\n",
      "4            Purple Movie              9.99      R\n",
      "5           Roxanne Rebel              9.99      R\n",
      "6         Sun Confessions              9.99      R \n",
      "\n",
      "PostgreSQL connection is closed\n"
     ]
    }
   ],
   "source": [
    "import psycopg2\n",
    "from psycopg2 import Error\n",
    "import pandas as pd\n",
    "try:\n",
    "    connection = psycopg2.connect(user=\"postgres\",\n",
    "                                  password=\"admin\",\n",
    "                                  host=\"127.0.0.1\",\n",
    "                                  port=\"5433\",\n",
    "                                  database=\"iykra-sql\")\n",
    "    cursor = connection.cursor()\n",
    "    postgreSQL_select_Query = (\"\"\" SELECT title,replacement_cost, rating \n",
    "    FROM public.film  WHERE rating = 'R'\n",
    "    AND replacement_cost BETWEEN 5 AND 10 ORDER BY film_id ASC \"\"\")\n",
    "    cursor.execute(postgreSQL_select_Query)\n",
    "    result_ = pd.read_sql(postgreSQL_select_Query, connection)\n",
    "    print(result_, \"\\n\")\n",
    "    \n",
    "except (Exception, Error) as error:\n",
    "    print(\"Error while fetching to PostgreSQL\", error)\n",
    "finally:\n",
    "    if (connection):\n",
    "        cursor.close()\n",
    "        connection.close()\n",
    "        print(\"PostgreSQL connection is closed\")"
   ]
  },
  {
   "cell_type": "markdown",
   "metadata": {},
   "source": [
    "### 2. We have two staff members with staff IDs 1 and 2. We want to give a bonus to the staff member that handled the most payments. How many payments did each staff member handle? And how much was the total amount processed by each staff member"
   ]
  },
  {
   "cell_type": "code",
   "execution_count": 7,
   "metadata": {},
   "outputs": [
    {
     "name": "stdout",
     "output_type": "stream",
     "text": [
      "   staff_id     total  total_member_handled\n",
      "0         1  30252.12                  7292\n",
      "1         2  31059.92                  7304 \n",
      "\n",
      "PostgreSQL connection is closed\n"
     ]
    }
   ],
   "source": [
    "import psycopg2\n",
    "from psycopg2 import Error\n",
    "import pandas as pd\n",
    "try:\n",
    "    connection = psycopg2.connect(user=\"postgres\",\n",
    "                                  password=\"admin\",\n",
    "                                  host=\"127.0.0.1\",\n",
    "                                  port=\"5433\",\n",
    "                                  database=\"iykra-sql\")\n",
    "    cursor = connection.cursor()\n",
    "    postgreSQL_select_Query = (\"\"\"SELECT staff_id, SUM(amount) AS total, COUNT (customer_id) \n",
    "    AS total_member_handled FROM  public.payment GROUP BY staff_id\"\"\")\n",
    "    cursor.execute(postgreSQL_select_Query)\n",
    "    result_ = pd.read_sql(postgreSQL_select_Query, connection)\n",
    "    print(result_, \"\\n\")\n",
    "except (Exception, Error) as error:\n",
    "    print(\"Error while fetching to PostgreSQL\", error)\n",
    "finally:\n",
    "    if (connection):\n",
    "        cursor.close()\n",
    "        connection.close()\n",
    "        print(\"PostgreSQL connection is closed\")"
   ]
  },
  {
   "cell_type": "markdown",
   "metadata": {},
   "source": [
    "Jumlah member paling banyak dilayani oleh staff_id 2 dengan total 7304 member "
   ]
  },
  {
   "cell_type": "markdown",
   "metadata": {},
   "source": [
    "### 3. Corporate headquarters is auditing the store, they want to know the average replacement cost of movies by rating"
   ]
  },
  {
   "cell_type": "code",
   "execution_count": 8,
   "metadata": {},
   "outputs": [
    {
     "name": "stdout",
     "output_type": "stream",
     "text": [
      "   avg_replacement_cost rating\n",
      "0             20.231026      R\n",
      "1             20.137619  NC-17\n",
      "2             20.124831      G\n",
      "3             18.959072     PG\n",
      "4             20.402556  PG-13 \n",
      "\n",
      "PostgreSQL connection is closed\n"
     ]
    }
   ],
   "source": [
    "import psycopg2\n",
    "from psycopg2 import Error\n",
    "import pandas as pd\n",
    "try:\n",
    "    # Connect to an existing database\n",
    "    connection = psycopg2.connect(user=\"postgres\",\n",
    "                                  password=\"admin\",\n",
    "                                  host=\"127.0.0.1\",\n",
    "                                  port=\"5433\",\n",
    "                                  database=\"iykra-sql\")\n",
    "    cursor = connection.cursor()\n",
    "    postgreSQL_select_Query = (\"\"\" SELECT AVG (replacement_cost)AS avg_replacement_cost, rating FROM film\n",
    "GROUP BY rating\n",
    "\"\"\")\n",
    "    cursor.execute(postgreSQL_select_Query)\n",
    "    result_ = pd.read_sql(postgreSQL_select_Query, connection)\n",
    "    print(result_, \"\\n\")\n",
    "except (Exception, Error) as error:\n",
    "    print(\"Error while fetching to PostgreSQL\", error)\n",
    "finally:\n",
    "    if (connection):\n",
    "        cursor.close()\n",
    "        connection.close()\n",
    "        print(\"PostgreSQL connection is closed\")"
   ]
  },
  {
   "cell_type": "markdown",
   "metadata": {},
   "source": [
    "### 4. We want to send coupons to the 5 customers who have spent the most amount of money. Get the customer name, emal and their spent amount!"
   ]
  },
  {
   "cell_type": "code",
   "execution_count": 3,
   "metadata": {},
   "outputs": [
    {
     "name": "stdout",
     "output_type": "stream",
     "text": [
      "   customer_id first_name last_name                              email  \\\n",
      "0          148    Eleanor      Hunt    eleanor.hunt@sakilacustomer.org   \n",
      "1          526       Karl      Seal       karl.seal@sakilacustomer.org   \n",
      "2          178     Marion    Snyder   marion.snyder@sakilacustomer.org   \n",
      "3          137     Rhonda   Kennedy  rhonda.kennedy@sakilacustomer.org   \n",
      "4          144      Clara      Shaw      clara.shaw@sakilacustomer.org   \n",
      "\n",
      "   total_amount  \n",
      "0        211.55  \n",
      "1        208.58  \n",
      "2        194.61  \n",
      "3        191.62  \n",
      "4        189.60   \n",
      "\n",
      "PostgreSQL connection is closed\n"
     ]
    }
   ],
   "source": [
    "import psycopg2\n",
    "from psycopg2 import Error\n",
    "import pandas as pd\n",
    "try:\n",
    "    # Connect to an existing database\n",
    "    connection = psycopg2.connect(user=\"postgres\",\n",
    "                                  password=\"admin\",\n",
    "                                  host=\"127.0.0.1\",\n",
    "                                  port=\"5433\",\n",
    "                                  database=\"iykra-sql\")\n",
    "    cursor = connection.cursor()\n",
    "    postgreSQL_select_Query = (\"\"\" SELECT\n",
    "\tcustomer_id,\n",
    "\tfirst_name,\n",
    "\tlast_name,\n",
    "\temail,\n",
    "\tSUM(amount)AS total_amount\n",
    "FROM\n",
    "\tpayment\n",
    "INNER JOIN customer USING(customer_id)\n",
    "GROUP BY customer_id \n",
    "ORDER BY total_amount DESC\n",
    "LIMIT 5;\n",
    "\n",
    "\"\"\")\n",
    "    cursor.execute(postgreSQL_select_Query)\n",
    "    result_ = pd.read_sql(postgreSQL_select_Query, connection)\n",
    "    print(result_, \"\\n\")\n",
    "except (Exception, Error) as error:\n",
    "    print(\"Error while fetching to PostgreSQL\", error)\n",
    "finally:\n",
    "    if (connection):\n",
    "        cursor.close()\n",
    "        connection.close()\n",
    "        print(\"PostgreSQL connection is closed\")"
   ]
  },
  {
   "cell_type": "markdown",
   "metadata": {},
   "source": [
    "### 5. A customer wants to know the films about ‘ancient’. How many recommendations could you give for him?"
   ]
  },
  {
   "cell_type": "code",
   "execution_count": 13,
   "metadata": {},
   "outputs": [
    {
     "name": "stdout",
     "output_type": "stream",
     "text": [
      "                   title                                           fulltext\n",
      "0        Airport Pollock  'airport':1 'ancient':18 'confront':14 'epic':...\n",
      "1         Ace Goldfinger  'ace':1 'administr':9 'ancient':19 'astound':4...\n",
      "2           Agent Truman  'agent':1 'ancient':19 'boy':11 'china':20 'es...\n",
      "3       Aladdin Calendar  'action':5 'action-pack':4 'aladdin':1 'ancien...\n",
      "4     Antitrust Tomatoes  'administr':17 'ancient':19 'antitrust':1 'dat...\n",
      "..                   ...                                                ...\n",
      "119      Whisperer Giant  'ancient':18 'confront':14 'dentist':8 'giant'...\n",
      "120            Wife Turn  'ancient':20 'awe':5 'awe-inspir':4 'confront'...\n",
      "121            Wonka Sea  'ancient':19 'boat':8 'brilliant':4 'india':20...\n",
      "122  Working Microcosmos  'ancient':18 'china':19 'dentist':8 'dog':11 '...\n",
      "123    Zoolander Fiction  'ancient':19 'boat':11 'china':20 'discov':14 ...\n",
      "\n",
      "[124 rows x 2 columns] \n",
      "\n",
      "   title_count\n",
      "0          124 \n",
      "\n",
      "PostgreSQL connection is closed\n"
     ]
    }
   ],
   "source": [
    "import psycopg2\n",
    "from psycopg2 import Error\n",
    "import pandas as pd\n",
    "try:\n",
    "    # Connect to an existing database\n",
    "    connection = psycopg2.connect(user=\"postgres\",\n",
    "                                  password=\"admin\",\n",
    "                                  host=\"127.0.0.1\",\n",
    "                                  port=\"5433\",\n",
    "                                  database=\"iykra-sql\")\n",
    "    cursor = connection.cursor()\n",
    "    postgreSQL_select_Query = (\"\"\" SELECT title, fulltext FROM film\n",
    "    WHERE fulltext @@ to_tsquery('ancient'); \"\"\")\n",
    "                              \n",
    "    query_ = (\"\"\"SELECT COUNT(title) AS title_count\n",
    "                              FROM film\n",
    "                              WHERE fulltext @@ to_tsquery ('ancient');\"\"\")\n",
    "    cursor.execute(postgreSQL_select_Query)\n",
    "    result_ = pd.read_sql(postgreSQL_select_Query, connection)\n",
    "    result_2 = pd.read_sql(query_, connection)\n",
    "    print(result_, \"\\n\")\n",
    "    print(result_2, \"\\n\")\n",
    "except (Exception, Error) as error:\n",
    "    print(\"Error while fetching to PostgreSQL\", error)\n",
    "finally:\n",
    "    if (connection):\n",
    "        cursor.close()\n",
    "        connection.close()\n",
    "        print(\"PostgreSQL connection is closed\")"
   ]
  },
  {
   "cell_type": "markdown",
   "metadata": {},
   "source": [
    "Terdapat 124 rekomendasi film dengan fulltext 'ancient'"
   ]
  }
 ],
 "metadata": {
  "kernelspec": {
   "display_name": "Python 3",
   "language": "python",
   "name": "python3"
  },
  "language_info": {
   "codemirror_mode": {
    "name": "ipython",
    "version": 3
   },
   "file_extension": ".py",
   "mimetype": "text/x-python",
   "name": "python",
   "nbconvert_exporter": "python",
   "pygments_lexer": "ipython3",
   "version": "3.8.5"
  }
 },
 "nbformat": 4,
 "nbformat_minor": 4
}
